{
 "cells": [
  {
   "cell_type": "markdown",
   "metadata": {},
   "source": [
    "# Basic laboraory calculations using Python\n",
    "\n",
    "'Lab math' are the basic calculations that we need to use everyday in the laboratory setting. One of the first places these calculations will help is when you are preparing [reagents](https://en.wikipedia.org/wiki/Reagent) in the lab. Commonly, a laboratory will have lots of chemicals that are used in experients, and need to be prepared in specific concentrations and ratios. "
   ]
  },
  {
   "cell_type": "markdown",
   "metadata": {},
   "source": [
    "## Concentration"
   ]
  },
  {
   "cell_type": "markdown",
   "metadata": {},
   "source": [
    "One of the most basic laboratory reagents will involve some [solute](https://en.wikipedia.org/wiki/Solution) in some [solvent](https://en.wikipedia.org/wiki/Solvent). We have performed this proceedure countless times, for example when we add some sugar to a cup of hot tea. To find the concentration, we need to know how much solvent (usually in grams) is dissolved in how much solvent (usually measured in liters). \n"
   ]
  },
  {
   "cell_type": "markdown",
   "metadata": {},
   "source": [
    "### Concentration Calculator - Grams per liter\n",
    "\n",
    "To build this calcuator we can have to variables:\n",
    "1. Grams of solute\n",
    "2. Liters of solution\n",
    "\n",
    "Complete the code block below to build the calcuator"
   ]
  },
  {
   "cell_type": "code",
   "execution_count": null,
   "metadata": {},
   "outputs": [],
   "source": [
    "grams_of_solute = 56\n",
    "liter_of_solvent = 2\n",
    "\n",
    "concentration = grams_of_solute / liter_of_solvent\n",
    "\n",
    "# Hint, this will be a mathematical formula\n",
    "\n",
    "print(\"The concentration is\", concentration, \"g/L\")"
   ]
  },
  {
   "cell_type": "markdown",
   "metadata": {},
   "source": [
    "## Dilution of stock solutions\n",
    "\n",
    "Commonly, we will create high-concentration solutions in the lab that can later be diluted. A high-concentration soulution is called a 'stock' solution. Making a stock solution allows us to save space. For example, if we have a solution that has 100g of salt in 1L of water, we need a liter-sized bottle to store it. However, if we dissolve 100g of salt in 0.1L of water, we can store the same amount of solution in 1/10th the space. \n",
    "\n",
    "*Question*\n",
    "How does using a stock solution (vs. making a new solution every time it is needed) make science more reproducible?\n",
    "\n",
    "To dilute a solution from the original concentration to a new concentration we need to keep track of several things:\n",
    "\n",
    "1. The original concentration of the solution\n",
    "2. The desired final amount (volume) of the dilution we are making\n",
    "3. desired final concentration of the dilution we are making\n",
    "\n",
    "The thing we need to figure out is what amount (volume) of the concentrated stock solution do we need to add to more solvent to make a more dilute solution. \n",
    "\n",
    "Again, keep in mind that this is an 'everyday' problem. Imagine you made some soup and accidentially added too much salt. You can't take the salt out, but you can add more water to make the final concentration of the salt less. \n",
    "\n",
    "The forumla for calculating dilutions is:\n",
    "\n",
    "C<sub>1</sub>\\*V<sub>1</sub> = C<sub>2</sub>\\*V<sub>2</sub>\n",
    "\n",
    "Where:\n",
    "\n",
    "C<sub>1</sub> = The original/starting concentration of the stock solution<br>\n",
    "V<sub>1</sub> = The (unknown) amount (volume) of the stock solution you will need to use<br>\n",
    "C<sub>2</sub> = The final, desired concentration<br>\n",
    "V<sub>2</sub> = The final, desired volume you wish to make<br>"
   ]
  },
  {
   "cell_type": "markdown",
   "metadata": {},
   "source": [
    "### Dilution calculator\n",
    "Complete the code block below to solve"
   ]
  },
  {
   "cell_type": "code",
   "execution_count": null,
   "metadata": {},
   "outputs": [],
   "source": [
    "# Suppose you have 500g of NaCl in 1L of water (your concentration is 500g/L)\n",
    "# How much of this stock solution would you need to add to 1L of solution that has \n",
    "# 250g of NaCl per L of water?\n",
    "\n",
    "concentration_1 = \n",
    "concentration_2 = \n",
    "volume_2 = \n",
    "\n",
    "\n",
    "volume_1 = \n",
    "\n",
    "# Create a formula which solves for the final volume of stock NaCl solution you need to use\n",
    "# Tip: Try solving this on paper first\n",
    "\n",
    "print(\"Add\",volume_1,\"liters of NaCl\")\n"
   ]
  },
  {
   "cell_type": "markdown",
   "metadata": {},
   "source": [
    "## Moles\n",
    "\n",
    "Probably one of the most important concepts in chemistry is the concept of a [mole](https://en.wikipedia.org/wiki/Mole_(unit)). The mole is a special number (it even has its own [holiday](http://www.moleday.org/)). A mole is just a number, but a very large one:\n",
    "\n",
    "6.02214078×10<sup>23</sup> (A mole: also known as, [Avagadro's Number](https://en.wikipedia.org/wiki/Avogadro_constant))\n",
    "\n",
    "A 'mole' is actually shorthand for that large number. Just like a 'dozen' = 12, a couple = 2, etc. \n",
    "\n",
    "So why do we need this number?\n",
    "\n",
    "Well, Atoms are very small. We can't count them one by one, but when we have lots of atoms (several grams at least for the kinds of scales we have at school), we can measure and estimate how many atoms we have. "
   ]
  },
  {
   "cell_type": "code",
   "execution_count": null,
   "metadata": {},
   "outputs": [],
   "source": [
    "## Egg Example\n",
    "\n",
    "# enter a number \n",
    "\n",
    "carton_mass = \n",
    "\n",
    "number_of_eggs = carton_mass/73\n",
    "\n",
    "number_of_dozzens = number_of_eggs/12\n",
    "\n",
    "print(\"You have\",number_of_dozzens,\"dozen eggs\")\n",
    "\n",
    "# How many grams does an egg weigh?\n"
   ]
  },
  {
   "cell_type": "markdown",
   "metadata": {},
   "source": [
    "### Weighing atoms\n",
    "\n",
    "By definition, when we have a mole of atoms, we have 6.02214078×10<sup>23</sup> atoms. In reality, just like not every egg will weigh 73g, different atoms have a diffent [atomic mass](https://en.wikipedia.org/wiki/Atomic_mass). On the periodic table, the atomic mass is the number below the element symbol:\n",
    "![](http://www.chem.qmul.ac.uk/iupac/AtWt/table.gif)<br>\n",
    "For carbon (C), 12.011g of carbon, we have 6.02214078×10<sup>23</sup> carbon atoms. A 1.008g sample of hydrogen (H) weighs much less but has the same number of atoms. \n",
    "\n",
    "#### Why this is very important\n",
    "With an understanding of Avagradro's number and the atmoic masses from the periodic table, we can accomplish something amazing. When we combine elements to form a new compound (e.g. combining hyrdogen and oxegen to make water), we know exactly how much (mass) of hydrogen we need to combine with how much oxegen so that we have enough ammounts of each. "
   ]
  },
  {
   "cell_type": "code",
   "execution_count": null,
   "metadata": {},
   "outputs": [],
   "source": [
    "#Install period table \n",
    "\n",
    "!pip3 install periodictable"
   ]
  },
  {
   "cell_type": "code",
   "execution_count": null,
   "metadata": {},
   "outputs": [],
   "source": [
    "# Calculate the number of moles\n",
    "\n",
    "# we first ask python to load (import) a bunch of useful constants including avagadro's number\n",
    "# and also the periodic table\n",
    "import scipy.constants\n",
    "import periodictable\n",
    "\n",
    "na = scipy.constants.N_A\n",
    "print(\"Avagadro's number is:\",na)\n",
    "\n"
   ]
  },
  {
   "cell_type": "code",
   "execution_count": null,
   "metadata": {},
   "outputs": [],
   "source": [
    "#let's calculate how many moles we have for a mass of carbon\n",
    "\n",
    "mass_C = periodictable.C.mass\n",
    "\n",
    "# choose a number of grams \n",
    "\n",
    "grams = 12\n",
    "\n",
    "number_of_moles = grams/mass_C\n",
    "\n",
    "print(\"number of moles is:\",number_of_moles)\n",
    "\n",
    "number_of_atoms = na * number_of_moles\n",
    "\n",
    "print(\"number of atoms is:\", number_of_atoms)\n"
   ]
  },
  {
   "cell_type": "markdown",
   "metadata": {},
   "source": [
    "## Molar mass\n",
    "\n",
    "When we have a compound such as Glucose (C<sub>6</sub>H<sub>12</sub>O<sub>6</sub>) we calculate the [molar mass](https://en.wikipedia.org/wiki/Molar_mass) as the sum of the total number of moles of each atom in the compound. \n",
    "\n",
    "C<sub>6</sub>H<sub>12</sub>O<sub>6</sub>\n",
    "\n",
    "6 Moles of Carbon\n",
    "12 Moles of Hydrogen\n",
    "6 Moles of Oxygen"
   ]
  },
  {
   "cell_type": "code",
   "execution_count": null,
   "metadata": {},
   "outputs": [],
   "source": [
    "# Calculate the molar mass of glucose\n",
    "\n",
    "molar_mass_component_hydrogen = 12 * periodictable.H.mass\n",
    "molar_mass_component_carbon = 6 * periodictable.C.mass\n",
    "molar_mass_component_oxygen = 6 * periodictable.O.mass\n",
    "\n",
    "molar_mass_glucose = molar_mass_component_hydrogen + molar_mass_component_carbon + molar_mass_component_oxygen\n",
    "\n",
    "print(\"molar mass of glucose is:\",molar_mass_glucose,\"grams per mole\")"
   ]
  },
  {
   "cell_type": "markdown",
   "metadata": {},
   "source": [
    "## Molarity \n",
    "\n",
    "Related to moles is the concept of molarity, or how many moles of a substance do we have in a solution. The formula for molarity of is:\n",
    "\n",
    "**Moles of solute/ Liters of solvent**"
   ]
  },
  {
   "cell_type": "code",
   "execution_count": null,
   "metadata": {},
   "outputs": [],
   "source": [
    "## Calculate molarity\n",
    "\n",
    "# Suppose we disolve 500g of NaCl in 1 Liter of water\n",
    "\n",
    "# How many moles of NaCl do we have? \n",
    "\n",
    "# We need to calculate the 'molar mass of NaCl'\n",
    "\n",
    "# fix the following code\n",
    "\n",
    "molar_mass_nacl = periodictable.Na.mass + periodictable.Cl.mass\n",
    "\n",
    "grams_of_nacl = 500\n",
    "\n",
    "moles_of_nacl = grams_of_nacl/molar_mass_nacl\n",
    "\n",
    "liters_of_water = 1\n",
    "\n",
    "molarity = moles_of_nacl/liters_of_water\n",
    "\n",
    "print(\"you have a\",molarity,\"molar solution\")\n",
    "\n"
   ]
  },
  {
   "cell_type": "markdown",
   "metadata": {},
   "source": [
    "### Limiting reagents\n",
    "\n",
    "Conceptually, knowing how many moles we have allows us to determine in advance how many moles of a substance is needed to create a particular molecule. For example:\n",
    "C<sub>6</sub>H<sub>12</sub>O<sub>6</sub>\n",
    "Would require us to have 6 moles of Carbon, 6 moles of Oxygen, and 12 moles of Hydrogen\n",
    "\n",
    "While we won't solve an example here, the sandwich example below gets the point across about limiting reagents - we can only make a much of a subtance as the least abundent component will allow; If we have hundreds of slices of cheese, but only 2 slices of bread, we get only one sandwich. "
   ]
  },
  {
   "cell_type": "code",
   "execution_count": null,
   "metadata": {},
   "outputs": [],
   "source": [
    "## Sandwich example\n",
    "\n",
    "# Imagine you have a box of bread and box of cheese. You can't look inside, but you can weigh \n",
    "# the box:\n",
    "\n",
    "# enter a number\n",
    "mass_bread_box = \n",
    "# enter a number\n",
    "mass_cheese_box = \n",
    "\n",
    "# We will ignore the mass of the boxes\n",
    "\n",
    "# How many slices of bread are needed to make a sandwich?\n",
    "bread_coefficent = 2\n",
    "\n",
    "# How many slides of cheese do you want in your sandwich?\n",
    "cheese_coefficent = 1\n",
    "\n",
    "print(\"My sandwich formula is:\",\"B\",bread_coefficent,\"C\",cheese_coefficent)\n",
    "\n",
    "\n",
    "# We will assume the following\n",
    "mass_of_bread_slice = 50\n",
    "mass_of_cheese_slice = 30\n",
    "\n",
    "\n",
    "# how many slices of cheese and bread?\n",
    "\n",
    "actual_bread_slices = mass_bread_box // mass_of_bread_slice\n",
    "# the // (floor division) will only return the nearest whole number\n",
    "\n",
    "print(\"You have\", actual_bread_slices, \"whole slices of bread\")\n",
    "\n",
    "actual_cheese_slices = mass_cheese_box // mass_of_cheese_slice\n",
    "print(\"You have\", actual_cheese_slices, \"whole slices of cheese\")\n",
    "\n",
    "# How many sandwiches can we make? \n",
    "\n",
    "# Create an empty variable\n",
    "sandwiches = 0 \n",
    "\n",
    "# Test using a while loop to make sure that the amount of bread and cheese in each box \n",
    "# is at least enough to make one sandwich\n",
    "# this loop will make sandwiches as long as this statement is true\n",
    "\n",
    "while actual_bread_slices >= bread_coefficent and actual_cheese_slices >= cheese_coefficent:\n",
    "\n",
    "    # make sandiwches\n",
    "    sandwiches = sandwiches +1\n",
    "    \n",
    "    # update the number of slices of bread\n",
    "    actual_bread_slices = actual_bread_slices - bread_coefficent\n",
    "    \n",
    "    # update the number of slices of cheese\n",
    "    actual_cheese_slices = actual_cheese_slices - cheese_coefficent\n",
    "  \n",
    "print(\"The maximum number of sandwiches you can make is:\", sandwiches)\n"
   ]
  }
 ],
 "metadata": {
  "kernelspec": {
   "display_name": "Python 3",
   "language": "python",
   "name": "python3"
  },
  "language_info": {
   "codemirror_mode": {
    "name": "ipython",
    "version": 3
   },
   "file_extension": ".py",
   "mimetype": "text/x-python",
   "name": "python",
   "nbconvert_exporter": "python",
   "pygments_lexer": "ipython3",
   "version": "3.8.8"
  }
 },
 "nbformat": 4,
 "nbformat_minor": 1
}
