{
 "cells": [
  {
   "cell_type": "markdown",
   "metadata": {},
   "source": [
    "# A first look at DNA\n",
    "\n",
    "Python will be our tool to explore DNA at the level of sequence information - DNA, RNA, and Protein. There are other ways to explore biology through bioinformatics, but for now these tools will be a great place to start. "
   ]
  },
  {
   "cell_type": "markdown",
   "metadata": {},
   "source": [
    "## Representing DNA\n",
    "\n",
    "In order for us to work with DNA, we will need to represent it virtually, a model:\n",
    "![](./img/rotating-dna.gif)\n",
    "The rotating image of DNA is of course not DNA, but a model that illustrates some properties we attribute to DNA (e.g. double-stranded, anti-parallel symetry, 10 paired nuclotides per turn). We could use numerical data to represent and model many of these properties, but for now let's start at one of the most abstract, the properties of a DNA sequence. \n",
    "\n"
   ]
  },
  {
   "cell_type": "markdown",
   "metadata": {},
   "source": [
    "## DNA as a string\n",
    "\n",
    "In Python, there are basic \"types\" of information (data structures) that can be manipulated. One of these is called a string. "
   ]
  },
  {
   "cell_type": "code",
   "execution_count": null,
   "metadata": {
    "collapsed": true
   },
   "outputs": [],
   "source": [
    "# Create a string\n",
    "string = \"5\""
   ]
  },
  {
   "cell_type": "markdown",
   "metadata": {},
   "source": [
    "This new variable we have created called 'string' is a string because we set its value by giving it information in quotes. We can check if it is a string by using the `type( )` function. To use the type function, place the value you want to check inside the parentheses. "
   ]
  },
  {
   "cell_type": "code",
   "execution_count": null,
   "metadata": {
    "collapsed": true
   },
   "outputs": [],
   "source": [
    "# check the type of 'string'\n"
   ]
  },
  {
   "cell_type": "markdown",
   "metadata": {},
   "source": [
    "Remember, setting a variable by using the \"\" around that variable will cause Python to call that value a string. "
   ]
  },
  {
   "cell_type": "code",
   "execution_count": null,
   "metadata": {},
   "outputs": [],
   "source": [
    "# Which of the following are strings (use the type function) \n",
    "\n",
    "variable_one = \"a\"\n",
    "variable_two = \"\"\n",
    "variable_three = 3\n",
    "variable_four = \"4\"\n",
    "\n",
    "# place the type() lines below\n",
    "type(variable_three)"
   ]
  },
  {
   "cell_type": "markdown",
   "metadata": {},
   "source": [
    "## Why do we need types?\n",
    "\n",
    "You will notice that a number without quotes is another type for Python called 'int' which is short for integer. We need to have different 'types' of data in Python (like string or integer) because if Python knows (anthropomorphic) what is the type of a variable, Python will know know what properties that variable has and what can be done with it. \n",
    "\n",
    "For example, if I tell you that in my ficticious language all numbers ending in \"a\" are positive (sjushda, duhuda, ygbbda, khsia) and all numbers ending in \"o\" are negative (suduuo, jnjuho, makkhuso, shuso) you really don't know what those numbers are in English. You do however know several things, such as adding two \"a\" numbers will generate a sum that moves in a positive direction along a number line, adding an \"a\" with an \"o\" number will move in the negative direction along the number line, and multiplying an \"a\" by an \"o\" number will generate a number ending in \"o\". \n",
    "\n",
    "Even though you really don't know what the numbers are, you can manipulate these numbers and the same goes for Python working with our Arabic numbers. For more on this line of logic see also the works of the philospher [Searle](https://en.wikipedia.org/wiki/Chinese_room). "
   ]
  },
  {
   "cell_type": "markdown",
   "metadata": {},
   "source": [
    "## A string of DNA\n",
    "\n",
    "Let's examine a string of DNA and some of it's properties"
   ]
  },
  {
   "cell_type": "code",
   "execution_count": 21,
   "metadata": {},
   "outputs": [
    {
     "name": "stdout",
     "output_type": "stream",
     "text": [
      "tagctgttcgtacccgtgatcgtttcag\n"
     ]
    }
   ],
   "source": [
    "# a DNA string\n",
    "\n",
    "my_DNA = 'tagctgttcgtacccgtgatcgtttcag'\n",
    "\n",
    "print(my_DNA)"
   ]
  },
  {
   "cell_type": "markdown",
   "metadata": {},
   "source": [
    "As a string, there are several things Python can do. For example, a string can be 0 (e.g. the empty string \"\") or more characters (letters or numbers - alphanumerics). We can can get the length of a string using the `len()` function (length). "
   ]
  },
  {
   "cell_type": "code",
   "execution_count": 22,
   "metadata": {},
   "outputs": [
    {
     "data": {
      "text/plain": [
       "28"
      ]
     },
     "execution_count": 22,
     "metadata": {},
     "output_type": "execute_result"
    }
   ],
   "source": [
    "# Check the length of the my_DNA string\n",
    "len(my_DNA)"
   ]
  },
  {
   "cell_type": "markdown",
   "metadata": {},
   "source": [
    "Another thing we may want to is to count how many times an individual character appears in a string. To do this, we are going to use a function called the `count()` Method\\*.\n",
    "\n",
    "\\* we call `count()` a method because in order to use it, we must type a variable name, followed by a '.', followed by the function name. "
   ]
  },
  {
   "cell_type": "code",
   "execution_count": null,
   "metadata": {},
   "outputs": [],
   "source": [
    "# How many 'a' nucleotides are in 'my_DNA'\n",
    "# notice we need to place what we want to count inside quotes and the paratheneses \n",
    "\n",
    "my_DNA.count('a')\n",
    "\n"
   ]
  },
  {
   "cell_type": "code",
   "execution_count": null,
   "metadata": {
    "collapsed": true
   },
   "outputs": [],
   "source": [
    "# calculate the count of all 4 nuclotides"
   ]
  },
  {
   "cell_type": "markdown",
   "metadata": {},
   "source": [
    "# Challenge question\n",
    "\n",
    "One of the properties of a piece of DNA is something called the [melting temperature](http://www.biophp.org/minitools/melting_temperature/demo.php?formula=basic) (Tm). The melting temperature is the temperature at which a double stranded DNA will separate into two single strands. This temperature is very important to know as when we replicate DNA in the lab, we need to determine this temperature in order to set up the replication reaction. \n",
    "\n",
    "\n",
    "For DNA fragments less than 14 nuclotides, we can simplfy the formula as:\n",
    "\n",
    "melting_temp = (#A + #T) * 2 + (#G + #C) * 4\n",
    "\n",
    "\\# stands for the count of the nucleotide in the string\n"
   ]
  },
  {
   "cell_type": "code",
   "execution_count": null,
   "metadata": {},
   "outputs": [],
   "source": [
    "# Using what you know about Python, calculate the melting temperature for my_DNA. Create as many variables as you\n",
    "# need to hold the intermediate variables (e.g the count of the individual nucleotides). Store the final value \n",
    "# as a new variable 'melting_temp'. A line that will print this varable, and a message is at the bottom of this cell\n",
    "\n",
    "\n",
    "\n",
    "\n",
    "\n",
    "\n",
    "print(\"The melting temp of the strand is:\",melting_temp,\"oC\" )\n"
   ]
  },
  {
   "cell_type": "markdown",
   "metadata": {},
   "source": [
    "If you complete the challenge, you now know how to use Python to model the themodynamic properties of a DNA sequence. If you want to go further, upgrade your code to better model longer DNA sequences according to this formula which is a better fit (more accurate) for DNA sequences longer than 14 nucleotides:\n",
    "\n",
    "Tm= 64.9 +41*(yG+zC-16.4)/(wA+xT+yG+zC) "
   ]
  },
  {
   "cell_type": "code",
   "execution_count": null,
   "metadata": {
    "collapsed": true
   },
   "outputs": [],
   "source": []
  }
 ],
 "metadata": {
  "kernelspec": {
   "display_name": "Python 3",
   "language": "python",
   "name": "python3"
  },
  "language_info": {
   "codemirror_mode": {
    "name": "ipython",
    "version": 3
   },
   "file_extension": ".py",
   "mimetype": "text/x-python",
   "name": "python",
   "nbconvert_exporter": "python",
   "pygments_lexer": "ipython3",
   "version": "3.8.8"
  }
 },
 "nbformat": 4,
 "nbformat_minor": 1
}
